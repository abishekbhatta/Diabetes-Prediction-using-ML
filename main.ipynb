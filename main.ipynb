{
 "cells": [
  {
   "cell_type": "code",
   "execution_count": 100,
   "metadata": {},
   "outputs": [],
   "source": [
    "#importing essential libraries and modules\n",
    "\n",
    "import pandas as pd\n",
    "from sklearn.model_selection import train_test_split\n",
    "from sklearn.metrics import accuracy_score\n",
    "from sklearn.svm import SVC"
   ]
  },
  {
   "cell_type": "code",
   "execution_count": 101,
   "metadata": {},
   "outputs": [],
   "source": [
    "#creating dataframe of diabetes.csv file\n",
    "df = pd.read_csv(\"diabetes.csv\")\n",
    "\n",
    "#getting rid of rows where glucose is 0 \n",
    "df = df[df['Glucose'] != 0] \n",
    "\n",
    "#splitting features(independent vairables) and target(dependent varaible) into X and y\n",
    "\n",
    "X = df.drop('Outcome', axis= 1) # this syntax does not make any changes to the original df\n",
    "\n",
    "X.columns = [None] * len(X.columns) #removing features name from the data\n",
    "\n",
    "y = df[\"Outcome\"] #Outcome --> target variable"
   ]
  },
  {
   "cell_type": "code",
   "execution_count": 102,
   "metadata": {},
   "outputs": [],
   "source": [
    "#splitting original X and y  for training and testing \n",
    "\n",
    "X_train, X_test, y_train, y_test = train_test_split(X, y, test_size=0.3)"
   ]
  },
  {
   "cell_type": "code",
   "execution_count": 103,
   "metadata": {},
   "outputs": [],
   "source": [
    "#creating SVM model that classify 0 and 1 \n",
    "# 0--> Non-diabetic and 1 --> diabetic\n",
    "\n",
    "model = SVC(kernel = \"linear\") #Linear kernel\n",
    "\n",
    "#training the model\n",
    "\n",
    "model.fit(X_train, y_train)\n",
    "\n",
    "#uncomment below to get a real-time prediction of record outside dataset\n",
    "#y_pred = model.predict(input)\n",
    "#note -> input should be a 2D array. E.g. [[a,b,c...]] where a,b,c... are the features\n",
    "\n",
    "y_pred = model.predict(X_test)\n",
    " \n",
    "accuracy = accuracy_score(y_test, y_pred)\n",
    "\n"
   ]
  },
  {
   "cell_type": "code",
   "execution_count": 104,
   "metadata": {},
   "outputs": [
    {
     "data": {
      "text/plain": [
       "0.8165938864628821"
      ]
     },
     "execution_count": 104,
     "metadata": {},
     "output_type": "execute_result"
    }
   ],
   "source": [
    "accuracy"
   ]
  },
  {
   "cell_type": "code",
   "execution_count": null,
   "metadata": {},
   "outputs": [],
   "source": []
  }
 ],
 "metadata": {
  "kernelspec": {
   "display_name": "Python 3",
   "language": "python",
   "name": "python3"
  },
  "language_info": {
   "codemirror_mode": {
    "name": "ipython",
    "version": 3
   },
   "file_extension": ".py",
   "mimetype": "text/x-python",
   "name": "python",
   "nbconvert_exporter": "python",
   "pygments_lexer": "ipython3",
   "version": "3.12.4"
  }
 },
 "nbformat": 4,
 "nbformat_minor": 2
}
